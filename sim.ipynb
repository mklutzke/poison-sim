{
 "cells": [
  {
   "cell_type": "code",
   "execution_count": 1,
   "metadata": {},
   "outputs": [],
   "source": [
    "import numpy as np\n",
    "import pandas as pd\n",
    "ingredients_all = pd.read_csv('ingredients.csv')\n"
   ]
  },
  {
   "cell_type": "code",
   "execution_count": 2,
   "metadata": {},
   "outputs": [],
   "source": [
    "player_count = 3 # declare desired player count\n",
    "\n",
    "if player_count == 3:\n",
    "    n_suits = 4\n",
    "    n_ranks = 6\n",
    "elif player_count == 4:\n",
    "    n_suits = 5\n",
    "    n_ranks = 6\n",
    "elif player_count == 5:\n",
    "    n_suits = 5\n",
    "    n_ranks = 7\n",
    "elif player_count == 6:\n",
    "    n_suits = 6\n",
    "    n_ranks = 7\n",
    "elif player_count == 7:\n",
    "    n_suits = 7\n",
    "    n_ranks = 7"
   ]
  },
  {
   "cell_type": "code",
   "execution_count": 3,
   "metadata": {},
   "outputs": [
    {
     "name": "stdout",
     "output_type": "stream",
     "text": [
      "[3 3 3 4 3 4 5 3 3 4 5 4 3 5 4 3 3 4 3 3]\n",
      "[[1 1 1]\n",
      " [1 1 1]\n",
      " [1 1 1]\n",
      " [1 2 1]\n",
      " [1 1 1]\n",
      " [2 1 1]\n",
      " [1 1 3]\n",
      " [1 1 1]\n",
      " [1 1 1]\n",
      " [1 2 1]\n",
      " [2 2 1]\n",
      " [2 1 1]\n",
      " [1 1 1]\n",
      " [1 2 2]\n",
      " [1 2 1]\n",
      " [1 1 1]\n",
      " [1 1 1]\n",
      " [1 1 2]\n",
      " [1 1 1]\n",
      " [1 1 1]]\n"
     ]
    },
    {
     "name": "stderr",
     "output_type": "stream",
     "text": [
      "C:\\Users\\Carl\\AppData\\Local\\Temp\\ipykernel_10568\\4227679132.py:3: RuntimeWarning: invalid value encountered in cast\n",
      "  poison_cards = np.empty([iterations, player_count]).astype(np.int64)\n"
     ]
    }
   ],
   "source": [
    "iterations = 20\n",
    "total_poison = np.empty(iterations).astype(np.int64)\n",
    "poison_cards = np.empty([iterations, player_count]).astype(np.int64)\n",
    "\n",
    "for x in range(0, iterations):\n",
    "    # SETUP\n",
    "    suits_all = ingredients_all['suit'].unique()\n",
    "    suits = np.delete(suits_all, np.where(suits_all=='sugar')) # remove sugar\n",
    "    suits = np.random.choice(suits, size=n_suits, replace=False) # randomly select suits\n",
    "    ingredients = ingredients_all[ingredients_all['suit'].isin(suits)]\n",
    "    ingredients = ingredients[ingredients['rank']<=n_ranks] # remove unused ranks\n",
    "\n",
    "    # DEAL\n",
    "    deck = ingredients\n",
    "    players = {} # player hands stored in dictionary\n",
    "    for i in range(1, player_count+1):\n",
    "        player_hand = deck.sample(n=7) # randomly select 7 cards\n",
    "        players['player{0}'.format(i)] = player_hand # assign cards to player\n",
    "        deck = deck[~deck['name'].isin(player_hand['name'])] # remove those cards from the deck\n",
    "\n",
    "    # POISON\n",
    "    poison_card = np.empty(player_count).astype(np.int64)\n",
    "    i = 0\n",
    "    for player, hand in players.items():\n",
    "        lowest_rank = hand['rank'].min()\n",
    "        poison_card[i] = lowest_rank\n",
    "        i += 1\n",
    "    poison = np.sum(poison_card)\n",
    "\n",
    "    total_poison[x] = poison\n",
    "    poison_cards[x] = poison_card\n",
    "\n",
    "print(total_poison)\n",
    "print(poison_cards)\n"
   ]
  }
 ],
 "metadata": {
  "kernelspec": {
   "display_name": "Python 3",
   "language": "python",
   "name": "python3"
  },
  "language_info": {
   "codemirror_mode": {
    "name": "ipython",
    "version": 3
   },
   "file_extension": ".py",
   "mimetype": "text/x-python",
   "name": "python",
   "nbconvert_exporter": "python",
   "pygments_lexer": "ipython3",
   "version": "3.13.1"
  }
 },
 "nbformat": 4,
 "nbformat_minor": 2
}
